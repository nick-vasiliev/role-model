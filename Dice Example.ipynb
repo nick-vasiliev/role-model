{
 "cells": [
  {
   "cell_type": "markdown",
   "id": "299f7c62-bc40-457d-84c0-12ad168318a6",
   "metadata": {},
   "source": [
    "# Kibble example\n",
    "Models my artificer attempting crafting checks Kibble's Crafting System: (https://www.reddit.com/r/UnearthedArcana/comments/rg5y3q/kibbles_crafting_system_a_comprehensive_system_of/).\n",
    "\n",
    "Uses pandas and matplotlib (maybe some other viz thing, idk what people use for dataviz in python rn)"
   ]
  },
  {
   "cell_type": "code",
   "execution_count": 3,
   "id": "ef792441-e8c1-4ccd-8013-48d1ba0d3e97",
   "metadata": {},
   "outputs": [],
   "source": [
    "# imports\n",
    "from kibble import Kibble\n",
    "from dice import Dice, Advantage\n",
    "import pandas as pd"
   ]
  },
  {
   "cell_type": "markdown",
   "id": "9da56b79-7564-44b7-9305-d4f7b9f5530c",
   "metadata": {},
   "source": [
    "Let's try and craft some rings:  \n",
    " - Ring of Jumping: 4 x DC 12 Checks  \n",
    " - Ring of Resistance: 8 x DC 16 Checks  \n",
    " - Ring of Telekinesis: 8 x DC 19 Checks  \n",
    " - Ring of Invisibility: 16 x DC 22 Checks"
   ]
  },
  {
   "cell_type": "code",
   "execution_count": 4,
   "id": "8133288a-b6c8-4e2f-ab91-12c6644093dc",
   "metadata": {},
   "outputs": [],
   "source": [
    "jumping = Kibble(dc=12,rolls_needed=4)\n",
    "resistance = Kibble(dc=16,rolls_needed=8)\n",
    "telekinesis = Kibble(dc=19,rolls_needed=8)\n",
    "invisibility = Kibble(dc=22,rolls_needed=16)"
   ]
  },
  {
   "cell_type": "markdown",
   "id": "00cb244a-d8c3-4850-b902-29ebd8263b38",
   "metadata": {},
   "source": [
    "Next let's get our dice."
   ]
  },
  {
   "cell_type": "code",
   "execution_count": 5,
   "id": "25209923-799b-49c3-90ce-734d0b90c62d",
   "metadata": {},
   "outputs": [],
   "source": [
    "artificer = Dice(20,8)"
   ]
  },
  {
   "cell_type": "markdown",
   "id": "29fceedd-d4fe-4778-9b8c-45f46a67bc7a",
   "metadata": {},
   "source": [
    "Now let's try rolls"
   ]
  },
  {
   "cell_type": "code",
   "execution_count": 13,
   "id": "f7ce2f77-20fe-45a1-93d0-a13b56516be9",
   "metadata": {},
   "outputs": [],
   "source": [
    "n_sims = 100\n",
    "kibble_sims = pd.DataFrame(\n",
    "    {\n",
    "        'Jumping' : [Kibble(dc=12,rolls_needed=4) for _ in range(n_sims)],\n",
    "        'Resistance' : [Kibble(dc=16,rolls_needed=8) for _ in range(n_sims)],\n",
    "        'Telekinesis' : [Kibble(dc=19,rolls_needed=8) for _ in range(n_sims)],\n",
    "        'Invisibility' : [Kibble(dc=22,rolls_needed=16) for _ in range(n_sims)]\n",
    "    }\n",
    ")"
   ]
  },
  {
   "cell_type": "code",
   "execution_count": null,
   "id": "e6d98365-95e4-4139-8c73-9207b59a25e1",
   "metadata": {},
   "outputs": [],
   "source": []
  }
 ],
 "metadata": {
  "kernelspec": {
   "display_name": "Python 3 (ipykernel)",
   "language": "python",
   "name": "python3"
  },
  "language_info": {
   "codemirror_mode": {
    "name": "ipython",
    "version": 3
   },
   "file_extension": ".py",
   "mimetype": "text/x-python",
   "name": "python",
   "nbconvert_exporter": "python",
   "pygments_lexer": "ipython3",
   "version": "3.12.1"
  }
 },
 "nbformat": 4,
 "nbformat_minor": 5
}
