{
 "cells": [
  {
   "cell_type": "markdown",
   "id": "299f7c62-bc40-457d-84c0-12ad168318a6",
   "metadata": {},
   "source": [
    "# Kibble example\n",
    "Models my artificer attempting crafting checks Kibble's Crafting System: (https://www.reddit.com/r/UnearthedArcana/comments/rg5y3q/kibbles_crafting_system_a_comprehensive_system_of/).\n",
    "\n",
    "Uses pandas and matplotlib (maybe some other viz thing, idk what people use for dataviz in python rn)"
   ]
  },
  {
   "cell_type": "code",
   "execution_count": 1,
   "id": "ef792441-e8c1-4ccd-8013-48d1ba0d3e97",
   "metadata": {},
   "outputs": [],
   "source": [
    "# imports\n",
    "from kibble import Kibble, roll_until_complete\n",
    "from dice import Dice, Advantage\n",
    "import pandas as pd"
   ]
  },
  {
   "cell_type": "markdown",
   "id": "9da56b79-7564-44b7-9305-d4f7b9f5530c",
   "metadata": {},
   "source": [
    "Let's try and craft some rings:  \n",
    " - Ring of Jumping: 4 x DC 12 Checks  \n",
    " - Ring of Resistance: 8 x DC 16 Checks  \n",
    " - Ring of Telekinesis: 8 x DC 19 Checks  \n",
    " - Ring of Invisibility: 16 x DC 22 Checks\n",
    "\n",
    "We'll try craft 100 of each and see how many we succeed."
   ]
  },
  {
   "cell_type": "code",
   "execution_count": 2,
   "id": "f7ce2f77-20fe-45a1-93d0-a13b56516be9",
   "metadata": {},
   "outputs": [
    {
     "name": "stdout",
     "output_type": "stream",
     "text": [
      "16 8 Resistance\n"
     ]
    }
   ],
   "source": [
    "rings = [\n",
    "    (12,4,\"Jumping\"), \n",
    "    (16,8,\"Resistance\"), \n",
    "    (19,8,\"Telekinesis\"), \n",
    "    (22,16,\"Invisibility\")\n",
    "]\n",
    "n_sims = 100\n",
    "print(*rings[1])"
   ]
  },
  {
   "cell_type": "markdown",
   "id": "00cb244a-d8c3-4850-b902-29ebd8263b38",
   "metadata": {},
   "source": [
    " Our dice is a d20 with an +8 modifier."
   ]
  },
  {
   "cell_type": "code",
   "execution_count": 3,
   "id": "25209923-799b-49c3-90ce-734d0b90c62d",
   "metadata": {},
   "outputs": [],
   "source": [
    "artificer = Dice(20,8)"
   ]
  },
  {
   "cell_type": "markdown",
   "id": "cc58ab01-28e8-49c0-b51e-14f17c8b675e",
   "metadata": {},
   "source": [
    "Now create df with results"
   ]
  },
  {
   "cell_type": "code",
   "execution_count": 4,
   "id": "35e65471-1922-4bfa-a306-8771e31982ac",
   "metadata": {},
   "outputs": [
    {
     "name": "stdout",
     "output_type": "stream",
     "text": [
      "<bound method NDFrame.head of              Item  Success  Rolls\n",
      "0         Jumping     True      4\n",
      "1         Jumping     True      5\n",
      "2         Jumping     True      4\n",
      "3         Jumping     True      4\n",
      "4         Jumping     True      4\n",
      "..            ...      ...    ...\n",
      "395  Invisibility    False      7\n",
      "396  Invisibility    False      3\n",
      "397  Invisibility    False      3\n",
      "398  Invisibility    False     17\n",
      "399  Invisibility    False     11\n",
      "\n",
      "[400 rows x 3 columns]>\n"
     ]
    }
   ],
   "source": [
    "results = pd.DataFrame(\n",
    "    {\n",
    "        \"Item\":[],\n",
    "        \"Success\":[],\n",
    "        \"Rolls\":[]\n",
    "    }\n",
    ")\n",
    "for ring in rings:\n",
    "    for _ in range(n_sims):\n",
    "        sim_kibble = Kibble( *ring )\n",
    "        roll_until_complete(sim_kibble, artificer.roll)\n",
    "        results.loc[len(results)] = {\n",
    "                \"Item\":sim_kibble.name,\n",
    "                 \"Success\":sim_kibble.is_success(),\n",
    "                 \"Rolls\":sim_kibble.n_rolls\n",
    "            }"
   ]
  },
  {
   "cell_type": "code",
   "execution_count": null,
   "id": "2b429061-2936-4c56-a068-0523dac0a81d",
   "metadata": {},
   "outputs": [],
   "source": []
  }
 ],
 "metadata": {
  "kernelspec": {
   "display_name": "Python 3 (ipykernel)",
   "language": "python",
   "name": "python3"
  },
  "language_info": {
   "codemirror_mode": {
    "name": "ipython",
    "version": 3
   },
   "file_extension": ".py",
   "mimetype": "text/x-python",
   "name": "python",
   "nbconvert_exporter": "python",
   "pygments_lexer": "ipython3",
   "version": "3.12.1"
  }
 },
 "nbformat": 4,
 "nbformat_minor": 5
}
