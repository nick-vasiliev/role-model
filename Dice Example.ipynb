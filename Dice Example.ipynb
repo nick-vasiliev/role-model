{
 "cells": [
  {
   "cell_type": "code",
   "execution_count": 2,
   "id": "ef792441-e8c1-4ccd-8013-48d1ba0d3e97",
   "metadata": {},
   "outputs": [],
   "source": [
    "# imports\n",
    "from kibble import Kibble\n",
    "from dice import Dice, Advantage"
   ]
  },
  {
   "cell_type": "code",
   "execution_count": 1,
   "id": "559041b9-69f7-4f18-8122-53bafd683d9e",
   "metadata": {},
   "outputs": [
    {
     "ename": "NameError",
     "evalue": "name 'Dice' is not defined",
     "output_type": "error",
     "traceback": [
      "\u001b[31m---------------------------------------------------------------------------\u001b[39m",
      "\u001b[31mNameError\u001b[39m                                 Traceback (most recent call last)",
      "\u001b[36mCell\u001b[39m\u001b[36m \u001b[39m\u001b[32mIn[1]\u001b[39m\u001b[32m, line 1\u001b[39m\n\u001b[32m----> \u001b[39m\u001b[32m1\u001b[39m d20 = \u001b[43mDice\u001b[49m(\u001b[32m20\u001b[39m, \u001b[32m5\u001b[39m)\n\u001b[32m      2\u001b[39m tenCheck = Kibble(\u001b[32m10\u001b[39m, \u001b[32m10\u001b[39m)\n\u001b[32m      4\u001b[39m \u001b[38;5;28;01mwhile\u001b[39;00m \u001b[38;5;129;01mnot\u001b[39;00m( tenCheck.isSuccess() \u001b[38;5;129;01mor\u001b[39;00m tenCheck.isFailed() ):\n",
      "\u001b[31mNameError\u001b[39m: name 'Dice' is not defined"
     ]
    }
   ],
   "source": [
    "d20 = Dice(20, 5)\n",
    "tenCheck = Kibble(10, 10)\n",
    "\n",
    "while not( tenCheck.isSuccess() or tenCheck.isFailed() ):\n",
    "    input(f\"{tenCheck.n_rolls} rolls\")\n",
    "    roll = d20.roll()\n",
    "    tenCheck.check( roll )\n",
    "    print(roll)"
   ]
  },
  {
   "cell_type": "code",
   "execution_count": null,
   "id": "a8216524-c625-4869-98ae-134423f08ebe",
   "metadata": {},
   "outputs": [],
   "source": []
  }
 ],
 "metadata": {
  "kernelspec": {
   "display_name": "Python 3 (ipykernel)",
   "language": "python",
   "name": "python3"
  },
  "language_info": {
   "codemirror_mode": {
    "name": "ipython",
    "version": 3
   },
   "file_extension": ".py",
   "mimetype": "text/x-python",
   "name": "python",
   "nbconvert_exporter": "python",
   "pygments_lexer": "ipython3",
   "version": "3.12.1"
  }
 },
 "nbformat": 4,
 "nbformat_minor": 5
}
